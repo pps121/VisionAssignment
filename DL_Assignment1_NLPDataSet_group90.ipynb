{
  "nbformat": 4,
  "nbformat_minor": 0,
  "metadata": {
    "colab": {
      "name": "DLAssignment1Final_NLP.ipynb",
      "provenance": [],
      "collapsed_sections": []
    },
    "kernelspec": {
      "name": "python3",
      "display_name": "Python 3"
    },
    "language_info": {
      "name": "python"
    },
    "accelerator": "GPU"
  },
  "cells": [
    {
      "cell_type": "markdown",
      "metadata": {
        "id": "pvFZgmDDMJgY"
      },
      "source": [
        "#Import Libraries"
      ]
    },
    {
      "cell_type": "markdown",
      "metadata": {
        "id": "v4z-g-IEoZbQ"
      },
      "source": [
        "**Question 2 :**\n",
        "\n",
        "***To build, train and evaluate a deep neural network on the IMDB Review datasets using Tensorflow.keras.***\n",
        "\n",
        "***With 5 Hiddenlayers using L2 regularisation ***\n",
        "\n",
        "**HYPER PARAMETER TUNING :**\n",
        "\n",
        "**1 Learning rate**\n",
        "\n",
        "**2 Batch Size Change**\n"
      ]
    },
    {
      "cell_type": "code",
      "metadata": {
        "id": "Q5PzVDJCiyKV"
      },
      "source": [
        "import pandas as pd\n",
        "from google.colab import drive\n",
        "import numpy as np\n",
        "import matplotlib.pyplot as plt\n",
        "import tensorflow as tf\n",
        "import tensorflow_hub as hub\n",
        "import tensorflow_datasets as tfds\n",
        "from sklearn.model_selection import train_test_split\n",
        "from sklearn.metrics import classification_report"
      ],
      "execution_count": null,
      "outputs": []
    },
    {
      "cell_type": "code",
      "metadata": {
        "colab": {
          "base_uri": "https://localhost:8080/"
        },
        "id": "iYnT0BPhl8yC",
        "outputId": "f640e92f-80ed-4559-a56d-a373a055b642"
      },
      "source": [
        "drive.mount('/content/drive')"
      ],
      "execution_count": null,
      "outputs": [
        {
          "output_type": "stream",
          "text": [
            "Mounted at /content/drive\n"
          ],
          "name": "stdout"
        }
      ]
    },
    {
      "cell_type": "markdown",
      "metadata": {
        "id": "lrp066TCMReU"
      },
      "source": [
        "#Import Dataset"
      ]
    },
    {
      "cell_type": "code",
      "metadata": {
        "id": "2ZqDJCYfjhig"
      },
      "source": [
        "data = pd.read_csv('/content/drive/MyDrive/training.1600000.processed.noemoticon.csv', encoding = 'latin', header=None)"
      ],
      "execution_count": null,
      "outputs": []
    },
    {
      "cell_type": "markdown",
      "metadata": {
        "id": "IUMdXTz9Ywtg"
      },
      "source": [
        "#Understanding Data"
      ]
    },
    {
      "cell_type": "code",
      "metadata": {
        "colab": {
          "base_uri": "https://localhost:8080/"
        },
        "id": "lS-c_-pxsy2S",
        "outputId": "dd746c6b-27e2-45d7-deff-88828e178354"
      },
      "source": [
        "data.shape"
      ],
      "execution_count": null,
      "outputs": [
        {
          "output_type": "execute_result",
          "data": {
            "text/plain": [
              "(1600000, 6)"
            ]
          },
          "metadata": {
            "tags": []
          },
          "execution_count": 5
        }
      ]
    },
    {
      "cell_type": "code",
      "metadata": {
        "id": "KP0dBw_TqzwR"
      },
      "source": [
        "data = data.rename(columns={0: 'target', 1: 'id', 2: 'date', 3: 'query', 4: 'username', 5: 'content'})"
      ],
      "execution_count": null,
      "outputs": []
    },
    {
      "cell_type": "markdown",
      "metadata": {
        "id": "p_dtGwgCpjSM"
      },
      "source": [
        "***Plotted at least two samples from each class of the dataset (use matplotlib/seaborn/any other library).*** "
      ]
    },
    {
      "cell_type": "code",
      "metadata": {
        "colab": {
          "base_uri": "https://localhost:8080/",
          "height": 204
        },
        "id": "p9-mX97gqs6D",
        "outputId": "6c275840-7fd7-40c3-b4b8-4d0d1f22f7ce"
      },
      "source": [
        "data.head()"
      ],
      "execution_count": null,
      "outputs": [
        {
          "output_type": "execute_result",
          "data": {
            "text/html": [
              "<div>\n",
              "<style scoped>\n",
              "    .dataframe tbody tr th:only-of-type {\n",
              "        vertical-align: middle;\n",
              "    }\n",
              "\n",
              "    .dataframe tbody tr th {\n",
              "        vertical-align: top;\n",
              "    }\n",
              "\n",
              "    .dataframe thead th {\n",
              "        text-align: right;\n",
              "    }\n",
              "</style>\n",
              "<table border=\"1\" class=\"dataframe\">\n",
              "  <thead>\n",
              "    <tr style=\"text-align: right;\">\n",
              "      <th></th>\n",
              "      <th>target</th>\n",
              "      <th>id</th>\n",
              "      <th>date</th>\n",
              "      <th>query</th>\n",
              "      <th>username</th>\n",
              "      <th>content</th>\n",
              "    </tr>\n",
              "  </thead>\n",
              "  <tbody>\n",
              "    <tr>\n",
              "      <th>0</th>\n",
              "      <td>0</td>\n",
              "      <td>1467810369</td>\n",
              "      <td>Mon Apr 06 22:19:45 PDT 2009</td>\n",
              "      <td>NO_QUERY</td>\n",
              "      <td>_TheSpecialOne_</td>\n",
              "      <td>@switchfoot http://twitpic.com/2y1zl - Awww, t...</td>\n",
              "    </tr>\n",
              "    <tr>\n",
              "      <th>1</th>\n",
              "      <td>0</td>\n",
              "      <td>1467810672</td>\n",
              "      <td>Mon Apr 06 22:19:49 PDT 2009</td>\n",
              "      <td>NO_QUERY</td>\n",
              "      <td>scotthamilton</td>\n",
              "      <td>is upset that he can't update his Facebook by ...</td>\n",
              "    </tr>\n",
              "    <tr>\n",
              "      <th>2</th>\n",
              "      <td>0</td>\n",
              "      <td>1467810917</td>\n",
              "      <td>Mon Apr 06 22:19:53 PDT 2009</td>\n",
              "      <td>NO_QUERY</td>\n",
              "      <td>mattycus</td>\n",
              "      <td>@Kenichan I dived many times for the ball. Man...</td>\n",
              "    </tr>\n",
              "    <tr>\n",
              "      <th>3</th>\n",
              "      <td>0</td>\n",
              "      <td>1467811184</td>\n",
              "      <td>Mon Apr 06 22:19:57 PDT 2009</td>\n",
              "      <td>NO_QUERY</td>\n",
              "      <td>ElleCTF</td>\n",
              "      <td>my whole body feels itchy and like its on fire</td>\n",
              "    </tr>\n",
              "    <tr>\n",
              "      <th>4</th>\n",
              "      <td>0</td>\n",
              "      <td>1467811193</td>\n",
              "      <td>Mon Apr 06 22:19:57 PDT 2009</td>\n",
              "      <td>NO_QUERY</td>\n",
              "      <td>Karoli</td>\n",
              "      <td>@nationwideclass no, it's not behaving at all....</td>\n",
              "    </tr>\n",
              "  </tbody>\n",
              "</table>\n",
              "</div>"
            ],
            "text/plain": [
              "   target  ...                                            content\n",
              "0       0  ...  @switchfoot http://twitpic.com/2y1zl - Awww, t...\n",
              "1       0  ...  is upset that he can't update his Facebook by ...\n",
              "2       0  ...  @Kenichan I dived many times for the ball. Man...\n",
              "3       0  ...    my whole body feels itchy and like its on fire \n",
              "4       0  ...  @nationwideclass no, it's not behaving at all....\n",
              "\n",
              "[5 rows x 6 columns]"
            ]
          },
          "metadata": {
            "tags": []
          },
          "execution_count": 7
        }
      ]
    },
    {
      "cell_type": "code",
      "metadata": {
        "colab": {
          "base_uri": "https://localhost:8080/",
          "height": 35
        },
        "id": "Qj5yh798-A3M",
        "outputId": "b81fd86d-7ac8-4e3d-fff1-f50d74cc95ec"
      },
      "source": [
        "tf.test.gpu_device_name()"
      ],
      "execution_count": null,
      "outputs": [
        {
          "output_type": "execute_result",
          "data": {
            "application/vnd.google.colaboratory.intrinsic+json": {
              "type": "string"
            },
            "text/plain": [
              "'/device:GPU:0'"
            ]
          },
          "metadata": {
            "tags": []
          },
          "execution_count": 8
        }
      ]
    },
    {
      "cell_type": "markdown",
      "metadata": {
        "id": "DQa-_F9Vp-P3"
      },
      "source": [
        ""
      ]
    },
    {
      "cell_type": "code",
      "metadata": {
        "colab": {
          "base_uri": "https://localhost:8080/"
        },
        "id": "-TyKRxa6-I_Y",
        "outputId": "679d6d11-c63e-4921-eb62-2c9360f8dd17"
      },
      "source": [
        "from tensorflow.python.client import device_lib\n",
        "device_lib.list_local_devices()"
      ],
      "execution_count": null,
      "outputs": [
        {
          "output_type": "execute_result",
          "data": {
            "text/plain": [
              "[name: \"/device:CPU:0\"\n",
              " device_type: \"CPU\"\n",
              " memory_limit: 268435456\n",
              " locality {\n",
              " }\n",
              " incarnation: 5708992180492984784, name: \"/device:GPU:0\"\n",
              " device_type: \"GPU\"\n",
              " memory_limit: 15703311680\n",
              " locality {\n",
              "   bus_id: 1\n",
              "   links {\n",
              "   }\n",
              " }\n",
              " incarnation: 113004173629718423\n",
              " physical_device_desc: \"device: 0, name: Tesla P100-PCIE-16GB, pci bus id: 0000:00:04.0, compute capability: 6.0\"]"
            ]
          },
          "metadata": {
            "tags": []
          },
          "execution_count": 9
        }
      ]
    },
    {
      "cell_type": "code",
      "metadata": {
        "id": "aeWX6u6eAnq0"
      },
      "source": [
        "data.drop(['id','date','query','username'], axis=1, inplace=True)"
      ],
      "execution_count": null,
      "outputs": []
    },
    {
      "cell_type": "code",
      "metadata": {
        "colab": {
          "base_uri": "https://localhost:8080/",
          "height": 173
        },
        "id": "h6zkYkNJriTE",
        "outputId": "79302d94-9f12-43cb-fb70-e0c699da64c4"
      },
      "source": [
        "data.groupby('target').head(2)"
      ],
      "execution_count": null,
      "outputs": [
        {
          "output_type": "execute_result",
          "data": {
            "text/html": [
              "<div>\n",
              "<style scoped>\n",
              "    .dataframe tbody tr th:only-of-type {\n",
              "        vertical-align: middle;\n",
              "    }\n",
              "\n",
              "    .dataframe tbody tr th {\n",
              "        vertical-align: top;\n",
              "    }\n",
              "\n",
              "    .dataframe thead th {\n",
              "        text-align: right;\n",
              "    }\n",
              "</style>\n",
              "<table border=\"1\" class=\"dataframe\">\n",
              "  <thead>\n",
              "    <tr style=\"text-align: right;\">\n",
              "      <th></th>\n",
              "      <th>target</th>\n",
              "      <th>content</th>\n",
              "    </tr>\n",
              "  </thead>\n",
              "  <tbody>\n",
              "    <tr>\n",
              "      <th>0</th>\n",
              "      <td>0</td>\n",
              "      <td>@switchfoot http://twitpic.com/2y1zl - Awww, t...</td>\n",
              "    </tr>\n",
              "    <tr>\n",
              "      <th>1</th>\n",
              "      <td>0</td>\n",
              "      <td>is upset that he can't update his Facebook by ...</td>\n",
              "    </tr>\n",
              "    <tr>\n",
              "      <th>800000</th>\n",
              "      <td>4</td>\n",
              "      <td>I LOVE @Health4UandPets u guys r the best!!</td>\n",
              "    </tr>\n",
              "    <tr>\n",
              "      <th>800001</th>\n",
              "      <td>4</td>\n",
              "      <td>im meeting up with one of my besties tonight! ...</td>\n",
              "    </tr>\n",
              "  </tbody>\n",
              "</table>\n",
              "</div>"
            ],
            "text/plain": [
              "        target                                            content\n",
              "0            0  @switchfoot http://twitpic.com/2y1zl - Awww, t...\n",
              "1            0  is upset that he can't update his Facebook by ...\n",
              "800000       4       I LOVE @Health4UandPets u guys r the best!! \n",
              "800001       4  im meeting up with one of my besties tonight! ..."
            ]
          },
          "metadata": {
            "tags": []
          },
          "execution_count": 11
        }
      ]
    },
    {
      "cell_type": "markdown",
      "metadata": {
        "id": "rk-2WUW4ZA5B"
      },
      "source": [
        "#Data Visualization"
      ]
    },
    {
      "cell_type": "markdown",
      "metadata": {
        "id": "OU0ze_5iqJT3"
      },
      "source": [
        "***Plot a bar graph of class distribution in dataset. Each bar depicts the number of tweets belonging to a particular sentiment. (recommended -matplotlib/seaborn libraries)***"
      ]
    },
    {
      "cell_type": "code",
      "metadata": {
        "colab": {
          "base_uri": "https://localhost:8080/",
          "height": 279
        },
        "id": "9zrftG6Rt7JA",
        "outputId": "80e26da7-66c5-4eac-9220-26fb17d6699f"
      },
      "source": [
        "data['target'].value_counts().plot(kind='bar')"
      ],
      "execution_count": null,
      "outputs": [
        {
          "output_type": "execute_result",
          "data": {
            "text/plain": [
              "<matplotlib.axes._subplots.AxesSubplot at 0x7fe61067c150>"
            ]
          },
          "metadata": {
            "tags": []
          },
          "execution_count": 12
        },
        {
          "output_type": "display_data",
          "data": {
            "image/png": "[encoded data removed]",
            "text/plain": [
              "<Figure size 432x288 with 1 Axes>"
            ]
          },
          "metadata": {
            "tags": [],
            "needs_background": "light"
          }
        }
      ]
    },
    {
      "cell_type": "markdown",
      "metadata": {
        "id": "xyZqwuCEZF4-"
      },
      "source": [
        "#Splitting Train and Test Sets"
      ]
    },
    {
      "cell_type": "code",
      "metadata": {
        "id": "wa_k87iCAHIU"
      },
      "source": [
        "train, test = train_test_split(data, test_size=0.2, random_state=44)"
      ],
      "execution_count": null,
      "outputs": []
    },
    {
      "cell_type": "code",
      "metadata": {
        "colab": {
          "base_uri": "https://localhost:8080/"
        },
        "id": "5BQrItPTAczP",
        "outputId": "414ed98b-9ea1-486b-dcac-c4aa157e8b13"
      },
      "source": [
        "print('Train dataset shape: {}'.format(train.shape))\n",
        "print('Test dataset shape: {}'.format(test.shape))"
      ],
      "execution_count": null,
      "outputs": [
        {
          "output_type": "stream",
          "text": [
            "Train dataset shape: (1280000, 2)\n",
            "Test dataset shape: (320000, 2)\n"
          ],
          "name": "stdout"
        }
      ]
    },
    {
      "cell_type": "code",
      "metadata": {
        "id": "zzPtPiZrI8nf"
      },
      "source": [
        "target=data.pop('target')"
      ],
      "execution_count": null,
      "outputs": []
    },
    {
      "cell_type": "code",
      "metadata": {
        "id": "rqznGhtvH02G"
      },
      "source": [
        "full_dataset = tf.data.Dataset.from_tensor_slices((data.values, target.values))"
      ],
      "execution_count": null,
      "outputs": []
    },
    {
      "cell_type": "code",
      "metadata": {
        "colab": {
          "base_uri": "https://localhost:8080/"
        },
        "id": "VTvMmetQJLMX",
        "outputId": "143b1b98-468a-4d3b-f882-e217f6bcecce"
      },
      "source": [
        "for feat, targ in full_dataset.take(5):\n",
        "  print ('Features: {}, Target: {}'.format(feat, targ))"
      ],
      "execution_count": null,
      "outputs": [
        {
          "output_type": "stream",
          "text": [
            "Features: [b\"@switchfoot http://twitpic.com/2y1zl - Awww, that's a bummer.  You shoulda got David Carr of Third Day to do it. ;D\"], Target: 0\n",
            "Features: [b\"is upset that he can't update his Facebook by texting it... and might cry as a result  School today also. Blah!\"], Target: 0\n",
            "Features: [b'@Kenichan I dived many times for the ball. Managed to save 50%  The rest go out of bounds'], Target: 0\n",
            "Features: [b'my whole body feels itchy and like its on fire '], Target: 0\n",
            "Features: [b\"@nationwideclass no, it's not behaving at all. i'm mad. why am i here? because I can't see you all over there. \"], Target: 0\n"
          ],
          "name": "stdout"
        }
      ]
    },
    {
      "cell_type": "code",
      "metadata": {
        "id": "V91T-HwkZqw0"
      },
      "source": [
        "# train_size = int(0.7 * len(data))\n",
        "# val_size = int(0.15 * len(data))\n",
        "# test_size = int(0.15 * len(data))\n",
        "\n",
        "# #full_dataset = full_dataset.shuffle(buffer_size=10000)\n",
        "# train_dataset = full_dataset.take(train_size)\n",
        "# test_dataset = full_dataset.skip(train_size)\n",
        "# val_dataset = test_dataset.skip(test_size)\n",
        "# test_dataset = test_dataset.take(test_size)"
      ],
      "execution_count": null,
      "outputs": []
    },
    {
      "cell_type": "code",
      "metadata": {
        "id": "Qsg5dE3kkPaZ"
      },
      "source": [
        "train_data, validation_data, test_data = tfds.load(\n",
        "    name=\"imdb_reviews\", \n",
        "    split=('train[:60%]', 'train[60%:]', 'test'),\n",
        "    as_supervised=True)"
      ],
      "execution_count": null,
      "outputs": []
    },
    {
      "cell_type": "code",
      "metadata": {
        "id": "Uc7hhkpuJ9LI"
      },
      "source": [
        "# train_data = full_dataset.shuffle(train_size).batch(10000)\n",
        "# train_data = train_data.prefetch(buffer_size=tf.data.experimental.AUTOTUNE)"
      ],
      "execution_count": null,
      "outputs": []
    },
    {
      "cell_type": "code",
      "metadata": {
        "id": "NIl8mS7Ub-M7"
      },
      "source": [
        "# test_data = test_dataset.shuffle(test_size).batch(10000)\n",
        "# test_data = test_data.prefetch(buffer_size=tf.data.experimental.AUTOTUNE)"
      ],
      "execution_count": null,
      "outputs": []
    },
    {
      "cell_type": "code",
      "metadata": {
        "id": "p8BGsUO2cqCC"
      },
      "source": [
        "# val_data = val_dataset.shuffle(val_size).batch(10000)\n",
        "# val_data = val_data.prefetch(buffer_size=tf.data.experimental.AUTOTUNE)"
      ],
      "execution_count": null,
      "outputs": []
    },
    {
      "cell_type": "code",
      "metadata": {
        "id": "ZFviw6tohNGX"
      },
      "source": [
        "# #dataset = tf.data.Dataset.from_tensor_slices((X_train, y_train))\n",
        "# train_data = full_dataset.shuffle(len(data)).batch(1)\n",
        "# train_data = train_data.prefetch(buffer_size=tf.data.experimental.AUTOTUNE)"
      ],
      "execution_count": null,
      "outputs": []
    },
    {
      "cell_type": "markdown",
      "metadata": {
        "id": "-Am7iqxcZUvW"
      },
      "source": [
        "#Data Pre-Processing"
      ]
    },
    {
      "cell_type": "markdown",
      "metadata": {
        "id": "KwyEpyLbqob0"
      },
      "source": [
        "***Changing the train and test data in the required format.***"
      ]
    },
    {
      "cell_type": "code",
      "metadata": {
        "id": "iY0ZgOCfk_D6"
      },
      "source": [
        "train_examples_batch, train_labels_batch = next(iter(train_data.batch(512)))"
      ],
      "execution_count": null,
      "outputs": []
    },
    {
      "cell_type": "markdown",
      "metadata": {
        "id": "zzDmzMyLqzLi"
      },
      "source": [
        "***We  are using a pre-trained text embedding model from TensorFlow Hub called google/nnlm-en-dim50/2.**\n",
        "\n",
        "**Creating a Keras layer that uses a TensorFlow Hub model to embed the sentences,***"
      ]
    },
    {
      "cell_type": "code",
      "metadata": {
        "id": "Dlk0qClbZID9",
        "colab": {
          "base_uri": "https://localhost:8080/"
        },
        "outputId": "dd05ff22-60a9-493a-aa56-1d9ffe7fee3c"
      },
      "source": [
        "embedding = \"https://tfhub.dev/google/nnlm-en-dim128/2\"\n",
        "hub_layer = hub.KerasLayer(embedding, input_shape=[], \n",
        "                           dtype=tf.string, trainable=True)\n",
        "hub_layer(train_examples_batch)"
      ],
      "execution_count": null,
      "outputs": [
        {
          "output_type": "stream",
          "text": [
            "WARNING:tensorflow:5 out of the last 5 calls to <function recreate_function.<locals>.restored_function_body at 0x7fe5bf936560> triggered tf.function retracing. Tracing is expensive and the excessive number of tracings could be due to (1) creating @tf.function repeatedly in a loop, (2) passing tensors with different shapes, (3) passing Python objects instead of tensors. For (1), please define your @tf.function outside of the loop. For (2), @tf.function has experimental_relax_shapes=True option that relaxes argument shapes that can avoid unnecessary retracing. For (3), please refer to https://www.tensorflow.org/guide/function#controlling_retracing and https://www.tensorflow.org/api_docs/python/tf/function for  more details.\n"
          ],
          "name": "stdout"
        },
        {
          "output_type": "stream",
          "text": [
            "WARNING:tensorflow:5 out of the last 5 calls to <function recreate_function.<locals>.restored_function_body at 0x7fe5bf936560> triggered tf.function retracing. Tracing is expensive and the excessive number of tracings could be due to (1) creating @tf.function repeatedly in a loop, (2) passing tensors with different shapes, (3) passing Python objects instead of tensors. For (1), please define your @tf.function outside of the loop. For (2), @tf.function has experimental_relax_shapes=True option that relaxes argument shapes that can avoid unnecessary retracing. For (3), please refer to https://www.tensorflow.org/guide/function#controlling_retracing and https://www.tensorflow.org/api_docs/python/tf/function for  more details.\n"
          ],
          "name": "stderr"
        },
        {
          "output_type": "stream",
          "text": [
            "WARNING:tensorflow:6 out of the last 6 calls to <function recreate_function.<locals>.restored_function_body at 0x7fe5bf91d9e0> triggered tf.function retracing. Tracing is expensive and the excessive number of tracings could be due to (1) creating @tf.function repeatedly in a loop, (2) passing tensors with different shapes, (3) passing Python objects instead of tensors. For (1), please define your @tf.function outside of the loop. For (2), @tf.function has experimental_relax_shapes=True option that relaxes argument shapes that can avoid unnecessary retracing. For (3), please refer to https://www.tensorflow.org/guide/function#controlling_retracing and https://www.tensorflow.org/api_docs/python/tf/function for  more details.\n"
          ],
          "name": "stdout"
        },
        {
          "output_type": "stream",
          "text": [
            "WARNING:tensorflow:6 out of the last 6 calls to <function recreate_function.<locals>.restored_function_body at 0x7fe5bf91d9e0> triggered tf.function retracing. Tracing is expensive and the excessive number of tracings could be due to (1) creating @tf.function repeatedly in a loop, (2) passing tensors with different shapes, (3) passing Python objects instead of tensors. For (1), please define your @tf.function outside of the loop. For (2), @tf.function has experimental_relax_shapes=True option that relaxes argument shapes that can avoid unnecessary retracing. For (3), please refer to https://www.tensorflow.org/guide/function#controlling_retracing and https://www.tensorflow.org/api_docs/python/tf/function for  more details.\n"
          ],
          "name": "stderr"
        },
        {
          "output_type": "execute_result",
          "data": {
            "text/plain": [
              "<tf.Tensor: shape=(512, 128), dtype=float32, numpy=\n",
              "array([[ 9.01966274e-01, -4.83913347e-03,  1.17907055e-01, ...,\n",
              "        -3.29729654e-02,  3.31326015e-02,  2.97882948e-02],\n",
              "       [ 1.16170359e+00, -7.05558211e-02,  1.60849199e-01, ...,\n",
              "        -8.43404531e-02, -5.93071952e-02,  6.59306049e-02],\n",
              "       [ 7.89935350e-01, -1.92666233e-01,  8.59462842e-02, ...,\n",
              "        -1.84138656e-01, -1.51076904e-02, -6.30587935e-02],\n",
              "       ...,\n",
              "       [ 1.44466436e+00, -8.83053914e-02,  1.60304487e-01, ...,\n",
              "        -2.42272437e-01,  2.09675387e-01,  1.44283520e-02],\n",
              "       [ 2.43924761e+00,  1.60155728e-01,  1.55203631e-02, ...,\n",
              "        -5.26408434e-01,  1.19971232e-02,  1.57669261e-01],\n",
              "       [ 9.46398973e-01, -2.19665486e-02,  2.32148677e-01, ...,\n",
              "         1.18891115e-03,  1.45378023e-01,  3.60802338e-02]], dtype=float32)>"
            ]
          },
          "metadata": {
            "tags": []
          },
          "execution_count": 37
        }
      ]
    },
    {
      "cell_type": "markdown",
      "metadata": {
        "id": "A76eqRG6ZcKV"
      },
      "source": [
        "#Model Building\n",
        "***Added drop out to adjust over fitting of the model***\n",
        "***Choosen 5 Hidden layers and we can see by summary that accuracy is improving at the pass of each layer***"
      ]
    },
    {
      "cell_type": "code",
      "metadata": {
        "colab": {
          "base_uri": "https://localhost:8080/"
        },
        "id": "frfOmn88Thpg",
        "outputId": "f21546c4-91ed-4a56-9510-3c5c5a086e77"
      },
      "source": [
        "model = tf.keras.Sequential()\n",
        "model.add(hub_layer)\n",
        "model.add(tf.keras.layers.Dense(5, kernel_regularizer=tf.keras.regularizers.l2(l2=0.01), activation='relu'))\n",
        "model.add(tf.keras.layers.Dense(5, kernel_regularizer=tf.keras.regularizers.l2(l2=0.01), activation='relu'))\n",
        "model.add(tf.keras.layers.Dropout(0.3)),\n",
        "model.add(tf.keras.layers.Dense(5, kernel_regularizer=tf.keras.regularizers.l2(l2=0.01), activation='relu'))\n",
        "model.add(tf.keras.layers.Dense(1,activation='sigmoid'))\n",
        "\n",
        "model.summary()"
      ],
      "execution_count": null,
      "outputs": [
        {
          "output_type": "stream",
          "text": [
            "Model: \"sequential_1\"\n",
            "_________________________________________________________________\n",
            "Layer (type)                 Output Shape              Param #   \n",
            "=================================================================\n",
            "keras_layer_1 (KerasLayer)   (None, 128)               124642688 \n",
            "_________________________________________________________________\n",
            "dense_4 (Dense)              (None, 5)                 645       \n",
            "_________________________________________________________________\n",
            "dense_5 (Dense)              (None, 5)                 30        \n",
            "_________________________________________________________________\n",
            "dropout_1 (Dropout)          (None, 5)                 0         \n",
            "_________________________________________________________________\n",
            "dense_6 (Dense)              (None, 5)                 30        \n",
            "_________________________________________________________________\n",
            "dense_7 (Dense)              (None, 1)                 6         \n",
            "=================================================================\n",
            "Total params: 124,643,399\n",
            "Trainable params: 124,643,399\n",
            "Non-trainable params: 0\n",
            "_________________________________________________________________\n"
          ],
          "name": "stdout"
        }
      ]
    },
    {
      "cell_type": "markdown",
      "metadata": {
        "id": "8rSOhmkxtUhM"
      },
      "source": [
        "#Model Compilation"
      ]
    },
    {
      "cell_type": "markdown",
      "metadata": {
        "id": "MXEjqmfXZmzL"
      },
      "source": [
        "***RMS is an optimizer that utilizes the magnitude of recent gradients to normalize the gradients. Default learning rate is 0.001***"
      ]
    },
    {
      "cell_type": "code",
      "metadata": {
        "id": "wiefnLcYlwD_"
      },
      "source": [
        "model.compile(optimizer='rmsprop',\n",
        "              loss=tf.keras.losses.BinaryCrossentropy(from_logits=True),\n",
        "              metrics=['accuracy'])"
      ],
      "execution_count": null,
      "outputs": []
    },
    {
      "cell_type": "markdown",
      "metadata": {
        "id": "ZiFe_wx_tkBX"
      },
      "source": [
        ""
      ]
    },
    {
      "cell_type": "markdown",
      "metadata": {
        "id": "ileO4RmOt0Y0"
      },
      "source": [
        "#Total Training Time "
      ]
    },
    {
      "cell_type": "markdown",
      "metadata": {
        "id": "tRfM71i7uJu_"
      },
      "source": [
        "***Created function to calculate total Training time***"
      ]
    },
    {
      "cell_type": "code",
      "metadata": {
        "id": "mpZN-iJ4yeBg"
      },
      "source": [
        "from datetime import datetime\n",
        "\n",
        "class timecallback(tf.keras.callbacks.Callback):\n",
        "    def __init__(self):\n",
        "        self.times = []\n",
        "        self.epochs = []\n",
        "        # use this value as reference to calculate cummulative time taken\n",
        "        self.timetaken = tf.timestamp() \n",
        "    def on_epoch_end(self,epoch,logs = {}):\n",
        "        self.times.append(tf.timestamp() - self.timetaken)\n",
        "        self.epochs.append(epoch)\n",
        "    def on_train_end(self,logs = {}):\n",
        "        plt.xlabel('Epoch')\n",
        "        plt.ylabel('Total time taken until an epoch in seconds')\n",
        "        plt.plot(self.epochs, self.times, 'ro')\n",
        "        for i in range(len(self.epochs)):\n",
        "          j = self.times[i].numpy()\n",
        "          if i == 0:\n",
        "            plt.text(i, j, str(round(j, 3)))\n",
        "          else:\n",
        "            j_prev = self.times[i-1].numpy()\n",
        "            plt.text(i, j, str(round(j-j_prev, 3)))\n",
        "        plt.savefig(datetime.now().strftime(\"%Y%m%d%H%M%S\") + \".png\")"
      ],
      "execution_count": null,
      "outputs": []
    },
    {
      "cell_type": "markdown",
      "metadata": {
        "id": "l2pz_d2MZ-kt"
      },
      "source": [
        "#Model Training\n",
        "***Calculated Total time of training and plotted total time taken at each epoch***\n"
      ]
    },
    {
      "cell_type": "code",
      "metadata": {
        "colab": {
          "base_uri": "https://localhost:8080/",
          "height": 517
        },
        "id": "AQ9IzwyFl5WF",
        "outputId": "f6ad0ec4-390d-4585-8a46-00f6fea4a711"
      },
      "source": [
        "start_time = tf.timestamp()\n",
        "history = model.fit(train_data.shuffle(10000).batch(512),\n",
        "                    epochs=7,\n",
        "                    validation_data=validation_data.batch(512),\n",
        "                    verbose=1,\n",
        "                    callbacks = [timecallback()])\n",
        "end_time = tf.timestamp()\n",
        "\n",
        "total_time=end_time-start_time"
      ],
      "execution_count": null,
      "outputs": [
        {
          "output_type": "stream",
          "text": [
            "Epoch 1/7\n",
            "30/30 [==============================] - 4s 81ms/step - loss: 0.8666 - accuracy: 0.5267 - val_loss: 0.8142 - val_accuracy: 0.6401\n",
            "Epoch 2/7\n",
            "30/30 [==============================] - 3s 77ms/step - loss: 0.7926 - accuracy: 0.6692 - val_loss: 0.7544 - val_accuracy: 0.6870\n",
            "Epoch 3/7\n",
            "30/30 [==============================] - 3s 77ms/step - loss: 0.7299 - accuracy: 0.7547 - val_loss: 0.6991 - val_accuracy: 0.7697\n",
            "Epoch 4/7\n",
            "30/30 [==============================] - 3s 79ms/step - loss: 0.6709 - accuracy: 0.8183 - val_loss: 0.6561 - val_accuracy: 0.8282\n",
            "Epoch 5/7\n",
            "30/30 [==============================] - 3s 77ms/step - loss: 0.6193 - accuracy: 0.8612 - val_loss: 0.6213 - val_accuracy: 0.8278\n",
            "Epoch 6/7\n",
            "30/30 [==============================] - 3s 77ms/step - loss: 0.5789 - accuracy: 0.8888 - val_loss: 0.5976 - val_accuracy: 0.8598\n",
            "Epoch 7/7\n",
            "30/30 [==============================] - 3s 78ms/step - loss: 0.5373 - accuracy: 0.9142 - val_loss: 0.5848 - val_accuracy: 0.8333\n"
          ],
          "name": "stdout"
        },
        {
          "output_type": "display_data",
          "data": {
            "image/png": "[encoded data removed]",
            "text/plain": [
              "<Figure size 432x288 with 1 Axes>"
            ]
          },
          "metadata": {
            "tags": [],
            "needs_background": "light"
          }
        }
      ]
    },
    {
      "cell_type": "markdown",
      "metadata": {
        "id": "pS6Nhushva0u"
      },
      "source": [
        "***Total Time Taken to train the model 20.24***"
      ]
    },
    {
      "cell_type": "code",
      "metadata": {
        "colab": {
          "base_uri": "https://localhost:8080/"
        },
        "id": "N02lqZUl4rSU",
        "outputId": "925b0835-93df-47fd-94ad-84a2de95a5b9"
      },
      "source": [
        "print('Time Taken is : ',total_time)"
      ],
      "execution_count": null,
      "outputs": [
        {
          "output_type": "stream",
          "text": [
            "Time Taken is :  tf.Tensor(20.244046926498413, shape=(), dtype=float64)\n"
          ],
          "name": "stdout"
        }
      ]
    },
    {
      "cell_type": "markdown",
      "metadata": {
        "id": "fIk_DJhgadWg"
      },
      "source": [
        "#Model Evaluation\n",
        "***Plotted Loss over Epocs for both Training and Validation data***"
      ]
    },
    {
      "cell_type": "code",
      "metadata": {
        "colab": {
          "base_uri": "https://localhost:8080/",
          "height": 295
        },
        "id": "GbVRvODf5fjq",
        "outputId": "ee25bddd-4698-4d83-a3c4-8161b5c1c43e"
      },
      "source": [
        ""
      ],
      "execution_count": null,
      "outputs": [
        {
          "output_type": "display_data",
          "data": {
            "image/png": "[encoded data removed]",
            "text/plain": [
              "<Figure size 432x288 with 1 Axes>"
            ]
          },
          "metadata": {
            "tags": [],
            "needs_background": "light"
          }
        }
      ]
    },
    {
      "cell_type": "markdown",
      "metadata": {
        "id": "JZuSO3nPbknE"
      },
      "source": [
        "***Plotted Accuracy over Epochs for both Training and Validation data***"
      ]
    },
    {
      "cell_type": "code",
      "metadata": {
        "colab": {
          "base_uri": "https://localhost:8080/",
          "height": 295
        },
        "id": "QmyRt6zQ5zzu",
        "outputId": "def05cd6-160f-4577-be09-ae9e3fb60d78"
      },
      "source": [
        "plt.plot(epochs, acc, 'bo', label='Training acc')\n",
        "plt.plot(epochs, val_acc, 'b', label='Validation acc')\n",
        "plt.title('Training and validation accuracy')\n",
        "plt.xlabel('Epochs')\n",
        "plt.ylabel('Accuracy')\n",
        "plt.legend(loc='lower right')\n",
        "\n",
        "plt.show()"
      ],
      "execution_count": null,
      "outputs": [
        {
          "output_type": "display_data",
          "data": {
            "image/png": "[encoded data removed]",
            "text/plain": [
              "<Figure size 432x288 with 1 Axes>"
            ]
          },
          "metadata": {
            "tags": [],
            "needs_background": "light"
          }
        }
      ]
    },
    {
      "cell_type": "code",
      "metadata": {
        "id": "HaATPCmH6yPk"
      },
      "source": [
        "x, y_ = next(iter(validation_data.batch(512)))"
      ],
      "execution_count": null,
      "outputs": []
    },
    {
      "cell_type": "code",
      "metadata": {
        "id": "dum2RfIf-f9m"
      },
      "source": [
        "y = (model.predict(x) > 0.5).astype(\"int32\")"
      ],
      "execution_count": null,
      "outputs": []
    },
    {
      "cell_type": "markdown",
      "metadata": {
        "id": "Tq2_xVzWbvtC"
      },
      "source": [
        "***Confusion Matrix***"
      ]
    },
    {
      "cell_type": "code",
      "metadata": {
        "colab": {
          "base_uri": "https://localhost:8080/"
        },
        "id": "yFhYshxOv60k",
        "outputId": "41eeebcd-e520-42e4-b3af-0bd79ba8846c"
      },
      "source": [
        "con = tf.math.confusion_matrix(labels=y_, predictions=y )\n",
        "print(con)"
      ],
      "execution_count": null,
      "outputs": [
        {
          "output_type": "stream",
          "text": [
            "tf.Tensor(\n",
            "[[252   7]\n",
            " [ 66 187]], shape=(2, 2), dtype=int32)\n"
          ],
          "name": "stdout"
        }
      ]
    },
    {
      "cell_type": "markdown",
      "metadata": {
        "id": "I-3GcJrZbzXk"
      },
      "source": [
        "***Classification Report***"
      ]
    },
    {
      "cell_type": "code",
      "metadata": {
        "colab": {
          "base_uri": "https://localhost:8080/"
        },
        "id": "UcXef5xPCezt",
        "outputId": "59129a69-f43b-4042-9097-42f1072fd014"
      },
      "source": [
        "print(classification_report(y_.numpy(), y))\n"
      ],
      "execution_count": null,
      "outputs": [
        {
          "output_type": "stream",
          "text": [
            "              precision    recall  f1-score   support\n",
            "\n",
            "           0       0.79      0.97      0.87       259\n",
            "           1       0.96      0.74      0.84       253\n",
            "\n",
            "    accuracy                           0.86       512\n",
            "   macro avg       0.88      0.86      0.86       512\n",
            "weighted avg       0.88      0.86      0.86       512\n",
            "\n"
          ],
          "name": "stdout"
        }
      ]
    },
    {
      "cell_type": "code",
      "metadata": {
        "id": "_ojtUL2bIfeb"
      },
      "source": [
        ""
      ],
      "execution_count": null,
      "outputs": []
    },
    {
      "cell_type": "markdown",
      "metadata": {
        "id": "zjJzvLtTb7ro"
      },
      "source": [
        "***Accuracy calculation***"
      ]
    },
    {
      "cell_type": "code",
      "metadata": {
        "colab": {
          "base_uri": "https://localhost:8080/"
        },
        "id": "5D6-7cpimC9V",
        "outputId": "9745ce1b-9ef1-4a23-814c-ca6bf58eb8eb"
      },
      "source": [
        "results = model.evaluate(test_data.batch(512), verbose=2)\n",
        "\n",
        "for name, value in zip(model.metrics_names, results):\n",
        "  print(\"%s: %.3f\" % (name, value))"
      ],
      "execution_count": null,
      "outputs": [
        {
          "output_type": "stream",
          "text": [
            "49/49 - 2s - loss: 0.5956 - accuracy: 0.8098\n",
            "loss: 0.596\n",
            "accuracy: 0.810\n"
          ],
          "name": "stdout"
        }
      ]
    },
    {
      "cell_type": "code",
      "metadata": {
        "colab": {
          "base_uri": "https://localhost:8080/"
        },
        "id": "NkHE8mTvBLvm",
        "outputId": "e5a49b63-2440-4cd2-dc2f-2ba94418135e"
      },
      "source": [
        "results"
      ],
      "execution_count": null,
      "outputs": [
        {
          "output_type": "execute_result",
          "data": {
            "text/plain": [
              "[0.5955924391746521, 0.8097599744796753]"
            ]
          },
          "metadata": {
            "tags": []
          },
          "execution_count": 50
        }
      ]
    },
    {
      "cell_type": "markdown",
      "metadata": {
        "id": "Ehfj237Ov9Qu"
      },
      "source": [
        ""
      ]
    },
    {
      "cell_type": "code",
      "metadata": {
        "colab": {
          "base_uri": "https://localhost:8080/"
        },
        "id": "CcMj5UCXLC1m",
        "outputId": "60189826-d3e4-49f2-faf1-118dd146734b"
      },
      "source": [
        "diff = y-y_\n",
        "print('False positives: ', np.where(diff == -1)[0])\n",
        "print('False negatives: ', np.where(diff == 1)[0])"
      ],
      "execution_count": null,
      "outputs": [
        {
          "output_type": "stream",
          "text": [
            "False positives:  [  6   6   6 ... 511 511 511]\n",
            "False negatives:  [  0   0   0 ... 510 510 510]\n"
          ],
          "name": "stdout"
        }
      ]
    },
    {
      "cell_type": "code",
      "metadata": {
        "id": "0hU3MmcoQSH-"
      },
      "source": [
        "#train_examples_batch, train_labels_batch = next(iter(train_data.batch(512)))"
      ],
      "execution_count": null,
      "outputs": []
    },
    {
      "cell_type": "markdown",
      "metadata": {
        "id": "gBWWK3eycJJj"
      },
      "source": [
        "# HyperParameter Tuning\n",
        "***Created Model 2 with changed learning rate***"
      ]
    },
    {
      "cell_type": "code",
      "metadata": {
        "id": "JXTmiLkwQZME",
        "colab": {
          "base_uri": "https://localhost:8080/"
        },
        "outputId": "fcba784c-18f2-4692-c478-a3d01979c10d"
      },
      "source": [
        "embedding = \"https://tfhub.dev/google/nnlm-en-dim128/2\"\n",
        "hub_layer = hub.KerasLayer(embedding, input_shape=[], \n",
        "                           dtype=tf.string, trainable=True)\n",
        "hub_layer(train_examples_batch)"
      ],
      "execution_count": null,
      "outputs": [
        {
          "output_type": "stream",
          "text": [
            "WARNING:tensorflow:11 out of the last 11 calls to <function recreate_function.<locals>.restored_function_body at 0x7fe5bba41d40> triggered tf.function retracing. Tracing is expensive and the excessive number of tracings could be due to (1) creating @tf.function repeatedly in a loop, (2) passing tensors with different shapes, (3) passing Python objects instead of tensors. For (1), please define your @tf.function outside of the loop. For (2), @tf.function has experimental_relax_shapes=True option that relaxes argument shapes that can avoid unnecessary retracing. For (3), please refer to https://www.tensorflow.org/guide/function#controlling_retracing and https://www.tensorflow.org/api_docs/python/tf/function for  more details.\n"
          ],
          "name": "stdout"
        },
        {
          "output_type": "stream",
          "text": [
            "WARNING:tensorflow:11 out of the last 11 calls to <function recreate_function.<locals>.restored_function_body at 0x7fe5bba41d40> triggered tf.function retracing. Tracing is expensive and the excessive number of tracings could be due to (1) creating @tf.function repeatedly in a loop, (2) passing tensors with different shapes, (3) passing Python objects instead of tensors. For (1), please define your @tf.function outside of the loop. For (2), @tf.function has experimental_relax_shapes=True option that relaxes argument shapes that can avoid unnecessary retracing. For (3), please refer to https://www.tensorflow.org/guide/function#controlling_retracing and https://www.tensorflow.org/api_docs/python/tf/function for  more details.\n"
          ],
          "name": "stderr"
        },
        {
          "output_type": "stream",
          "text": [
            "WARNING:tensorflow:11 out of the last 11 calls to <function recreate_function.<locals>.restored_function_body at 0x7fe5bba4c440> triggered tf.function retracing. Tracing is expensive and the excessive number of tracings could be due to (1) creating @tf.function repeatedly in a loop, (2) passing tensors with different shapes, (3) passing Python objects instead of tensors. For (1), please define your @tf.function outside of the loop. For (2), @tf.function has experimental_relax_shapes=True option that relaxes argument shapes that can avoid unnecessary retracing. For (3), please refer to https://www.tensorflow.org/guide/function#controlling_retracing and https://www.tensorflow.org/api_docs/python/tf/function for  more details.\n"
          ],
          "name": "stdout"
        },
        {
          "output_type": "stream",
          "text": [
            "WARNING:tensorflow:11 out of the last 11 calls to <function recreate_function.<locals>.restored_function_body at 0x7fe5bba4c440> triggered tf.function retracing. Tracing is expensive and the excessive number of tracings could be due to (1) creating @tf.function repeatedly in a loop, (2) passing tensors with different shapes, (3) passing Python objects instead of tensors. For (1), please define your @tf.function outside of the loop. For (2), @tf.function has experimental_relax_shapes=True option that relaxes argument shapes that can avoid unnecessary retracing. For (3), please refer to https://www.tensorflow.org/guide/function#controlling_retracing and https://www.tensorflow.org/api_docs/python/tf/function for  more details.\n"
          ],
          "name": "stderr"
        },
        {
          "output_type": "stream",
          "text": [
            "WARNING:tensorflow:11 out of the last 11 calls to <function recreate_function.<locals>.restored_function_body at 0x7fe5bba41320> triggered tf.function retracing. Tracing is expensive and the excessive number of tracings could be due to (1) creating @tf.function repeatedly in a loop, (2) passing tensors with different shapes, (3) passing Python objects instead of tensors. For (1), please define your @tf.function outside of the loop. For (2), @tf.function has experimental_relax_shapes=True option that relaxes argument shapes that can avoid unnecessary retracing. For (3), please refer to https://www.tensorflow.org/guide/function#controlling_retracing and https://www.tensorflow.org/api_docs/python/tf/function for  more details.\n"
          ],
          "name": "stdout"
        },
        {
          "output_type": "stream",
          "text": [
            "WARNING:tensorflow:11 out of the last 11 calls to <function recreate_function.<locals>.restored_function_body at 0x7fe5bba41320> triggered tf.function retracing. Tracing is expensive and the excessive number of tracings could be due to (1) creating @tf.function repeatedly in a loop, (2) passing tensors with different shapes, (3) passing Python objects instead of tensors. For (1), please define your @tf.function outside of the loop. For (2), @tf.function has experimental_relax_shapes=True option that relaxes argument shapes that can avoid unnecessary retracing. For (3), please refer to https://www.tensorflow.org/guide/function#controlling_retracing and https://www.tensorflow.org/api_docs/python/tf/function for  more details.\n"
          ],
          "name": "stderr"
        },
        {
          "output_type": "execute_result",
          "data": {
            "text/plain": [
              "<tf.Tensor: shape=(512, 128), dtype=float32, numpy=\n",
              "array([[ 9.01966274e-01, -4.83913347e-03,  1.17907055e-01, ...,\n",
              "        -3.29729654e-02,  3.31326015e-02,  2.97882948e-02],\n",
              "       [ 1.16170359e+00, -7.05558211e-02,  1.60849199e-01, ...,\n",
              "        -8.43404531e-02, -5.93071952e-02,  6.59306049e-02],\n",
              "       [ 7.89935350e-01, -1.92666233e-01,  8.59462842e-02, ...,\n",
              "        -1.84138656e-01, -1.51076904e-02, -6.30587935e-02],\n",
              "       ...,\n",
              "       [ 1.44466436e+00, -8.83053914e-02,  1.60304487e-01, ...,\n",
              "        -2.42272437e-01,  2.09675387e-01,  1.44283520e-02],\n",
              "       [ 2.43924761e+00,  1.60155728e-01,  1.55203631e-02, ...,\n",
              "        -5.26408434e-01,  1.19971232e-02,  1.57669261e-01],\n",
              "       [ 9.46398973e-01, -2.19665486e-02,  2.32148677e-01, ...,\n",
              "         1.18891115e-03,  1.45378023e-01,  3.60802338e-02]], dtype=float32)>"
            ]
          },
          "metadata": {
            "tags": []
          },
          "execution_count": 73
        }
      ]
    },
    {
      "cell_type": "code",
      "metadata": {
        "colab": {
          "base_uri": "https://localhost:8080/"
        },
        "id": "Mg6AL5KnLqH-",
        "outputId": "deca18cc-466b-4e66-c648-7d8197400d18"
      },
      "source": [
        "model2 = tf.keras.Sequential()\n",
        "model2.add(hub_layer)\n",
        "model2.add(tf.keras.layers.Dense(5, kernel_regularizer=tf.keras.regularizers.l2(l2=0.01), activation='relu'))\n",
        "model2.add(tf.keras.layers.Dense(5, kernel_regularizer=tf.keras.regularizers.l2(l2=0.01), activation='relu'))\n",
        "model2.add(tf.keras.layers.Dropout(0.3)),\n",
        "model2.add(tf.keras.layers.Dense(5, kernel_regularizer=tf.keras.regularizers.l2(l2=0.01), activation='relu'))\n",
        "model2.add(tf.keras.layers.Dense(1,activation='sigmoid'))\n",
        "\n",
        "model2.summary()"
      ],
      "execution_count": null,
      "outputs": [
        {
          "output_type": "stream",
          "text": [
            "Model: \"sequential_4\"\n",
            "_________________________________________________________________\n",
            "Layer (type)                 Output Shape              Param #   \n",
            "=================================================================\n",
            "keras_layer_4 (KerasLayer)   (None, 128)               124642688 \n",
            "_________________________________________________________________\n",
            "dense_16 (Dense)             (None, 5)                 645       \n",
            "_________________________________________________________________\n",
            "dense_17 (Dense)             (None, 5)                 30        \n",
            "_________________________________________________________________\n",
            "dropout_4 (Dropout)          (None, 5)                 0         \n",
            "_________________________________________________________________\n",
            "dense_18 (Dense)             (None, 5)                 30        \n",
            "_________________________________________________________________\n",
            "dense_19 (Dense)             (None, 1)                 6         \n",
            "=================================================================\n",
            "Total params: 124,643,399\n",
            "Trainable params: 124,643,399\n",
            "Non-trainable params: 0\n",
            "_________________________________________________________________\n"
          ],
          "name": "stdout"
        }
      ]
    },
    {
      "cell_type": "markdown",
      "metadata": {
        "id": "7_qezzAmccb4"
      },
      "source": [
        "#Changing Optimizer \n",
        "***Optimizer changed to Adam and tuned learning rate to 0.3***"
      ]
    },
    {
      "cell_type": "code",
      "metadata": {
        "id": "eilj-ghYL7zF"
      },
      "source": [
        "optimizer_adam = tf.keras.optimizers.Adam(learning_rate=0.3)\n",
        "\n",
        "model2.compile(optimizer= 'adam',\n",
        "              loss=tf.keras.losses.BinaryCrossentropy(from_logits=True),\n",
        "              metrics=['accuracy'])"
      ],
      "execution_count": null,
      "outputs": []
    },
    {
      "cell_type": "markdown",
      "metadata": {
        "id": "f5L44Aqqc2bZ"
      },
      "source": [
        "***Calculated Total time of training and plotted total time taken at each of 7 epoch***"
      ]
    },
    {
      "cell_type": "code",
      "metadata": {
        "colab": {
          "base_uri": "https://localhost:8080/",
          "height": 517
        },
        "id": "hsppreFVMtmW",
        "outputId": "ee933a64-3f3a-44f4-8a47-5eb2291c47b7"
      },
      "source": [
        "start_time = tf.timestamp()\n",
        "history = model2.fit(train_data.shuffle(10000).batch(512),\n",
        "                    epochs=7,\n",
        "                    validation_data=validation_data.batch(512),\n",
        "                    verbose=1,\n",
        "                    callbacks = [timecallback()])\n",
        "end_time = tf.timestamp()\n",
        "\n",
        "total_time=end_time-start_time"
      ],
      "execution_count": null,
      "outputs": [
        {
          "output_type": "stream",
          "text": [
            "Epoch 1/7\n",
            "30/30 [==============================] - 4s 103ms/step - loss: 0.8840 - accuracy: 0.5542 - val_loss: 0.8183 - val_accuracy: 0.7235\n",
            "Epoch 2/7\n",
            "30/30 [==============================] - 3s 99ms/step - loss: 0.7957 - accuracy: 0.6588 - val_loss: 0.7236 - val_accuracy: 0.8351\n",
            "Epoch 3/7\n",
            "30/30 [==============================] - 3s 97ms/step - loss: 0.7141 - accuracy: 0.7282 - val_loss: 0.6343 - val_accuracy: 0.8573\n",
            "Epoch 4/7\n",
            "30/30 [==============================] - 3s 98ms/step - loss: 0.6271 - accuracy: 0.7740 - val_loss: 0.5582 - val_accuracy: 0.8659\n",
            "Epoch 5/7\n",
            "30/30 [==============================] - 3s 99ms/step - loss: 0.5534 - accuracy: 0.7958 - val_loss: 0.5057 - val_accuracy: 0.8706\n",
            "Epoch 6/7\n",
            "30/30 [==============================] - 3s 100ms/step - loss: 0.4808 - accuracy: 0.8105 - val_loss: 0.4772 - val_accuracy: 0.8743\n",
            "Epoch 7/7\n",
            "30/30 [==============================] - 3s 98ms/step - loss: 0.4247 - accuracy: 0.8297 - val_loss: 0.4561 - val_accuracy: 0.8775\n"
          ],
          "name": "stdout"
        },
        {
          "output_type": "display_data",
          "data": {
            "image/png": "[encoded data removed]",
            "text/plain": [
              "<Figure size 432x288 with 1 Axes>"
            ]
          },
          "metadata": {
            "tags": [],
            "needs_background": "light"
          }
        }
      ]
    },
    {
      "cell_type": "markdown",
      "metadata": {
        "id": "WePbWLKidBjM"
      },
      "source": [
        "***Plotted Loss over Epochs for both Training and Validation data***"
      ]
    },
    {
      "cell_type": "code",
      "metadata": {
        "colab": {
          "base_uri": "https://localhost:8080/",
          "height": 295
        },
        "id": "PjuiLf5DPlIp",
        "outputId": "61e53584-a468-4187-9b0a-7ee371eba269"
      },
      "source": [
        "history_dict = history.history\n",
        "history_dict.keys()\n",
        "acc = history_dict['accuracy']\n",
        "val_acc = history_dict['val_accuracy']\n",
        "loss = history_dict['loss']\n",
        "val_loss = history_dict['val_loss']\n",
        "\n",
        "epochs = range(1, len(acc) + 1)\n",
        "\n",
        "# \"bo\" is for \"blue dot\"\n",
        "plt.plot(epochs, loss, 'bo', label='Training loss')\n",
        "# b is for \"solid blue line\"\n",
        "plt.plot(epochs, val_loss, 'b', label='Validation loss')\n",
        "plt.title('Training and validation loss')\n",
        "plt.xlabel('Epochs')\n",
        "plt.ylabel('Loss')\n",
        "plt.legend()\n",
        "\n",
        "plt.show()"
      ],
      "execution_count": null,
      "outputs": [
        {
          "output_type": "display_data",
          "data": {
            "image/png": "[encoded data removed]",
            "text/plain": [
              "<Figure size 432x288 with 1 Axes>"
            ]
          },
          "metadata": {
            "tags": [],
            "needs_background": "light"
          }
        }
      ]
    },
    {
      "cell_type": "markdown",
      "metadata": {
        "id": "6jPdndXGdJ46"
      },
      "source": [
        "#Model Evaluation\n",
        "***Plotted Accuracy over Epochs for both Training and Validation data***"
      ]
    },
    {
      "cell_type": "code",
      "metadata": {
        "colab": {
          "base_uri": "https://localhost:8080/",
          "height": 295
        },
        "id": "2mveCcTsPn30",
        "outputId": "ba532e92-a85c-4e12-959e-ef41f0f9c677"
      },
      "source": [
        "plt.plot(epochs, acc, 'bo', label='Training acc')\n",
        "plt.plot(epochs, val_acc, 'b', label='Validation acc')\n",
        "plt.title('Training and validation accuracy')\n",
        "plt.xlabel('Epochs')\n",
        "plt.ylabel('Accuracy')\n",
        "plt.legend(loc='lower right')\n",
        "\n",
        "plt.show()"
      ],
      "execution_count": null,
      "outputs": [
        {
          "output_type": "display_data",
          "data": {
            "image/png": "[encoded data removed]",
            "text/plain": [
              "<Figure size 432x288 with 1 Axes>"
            ]
          },
          "metadata": {
            "tags": [],
            "needs_background": "light"
          }
        }
      ]
    },
    {
      "cell_type": "code",
      "metadata": {
        "id": "2zUx_1SDMybl"
      },
      "source": [
        "x, y_ = next(iter(validation_data.batch(512)))"
      ],
      "execution_count": null,
      "outputs": []
    },
    {
      "cell_type": "code",
      "metadata": {
        "id": "Aqd5wJRQM4PG"
      },
      "source": [
        "y2 = (model2.predict(x) > 0.5).astype(\"int32\")"
      ],
      "execution_count": null,
      "outputs": []
    },
    {
      "cell_type": "markdown",
      "metadata": {
        "id": "yL0XJOL4dnI8"
      },
      "source": [
        "***Confusion Matrix***"
      ]
    },
    {
      "cell_type": "code",
      "metadata": {
        "colab": {
          "base_uri": "https://localhost:8080/"
        },
        "id": "4B6so7ANM62f",
        "outputId": "c4ae93f9-5191-4155-93a8-f27530956c2c"
      },
      "source": [
        "con = tf.math.confusion_matrix(labels=y_, predictions=y2 )\n",
        "print(con)"
      ],
      "execution_count": null,
      "outputs": [
        {
          "output_type": "stream",
          "text": [
            "tf.Tensor(\n",
            "[[235  24]\n",
            " [ 30 223]], shape=(2, 2), dtype=int32)\n"
          ],
          "name": "stdout"
        }
      ]
    },
    {
      "cell_type": "markdown",
      "metadata": {
        "id": "UzLPFevhdrJ8"
      },
      "source": [
        "***Classification Report***"
      ]
    },
    {
      "cell_type": "code",
      "metadata": {
        "colab": {
          "base_uri": "https://localhost:8080/"
        },
        "id": "lckhaC76M-YY",
        "outputId": "6f46b00e-4ef7-4c52-f498-8cb002140a3e"
      },
      "source": [
        "print(classification_report(y_.numpy(), y2))"
      ],
      "execution_count": null,
      "outputs": [
        {
          "output_type": "stream",
          "text": [
            "              precision    recall  f1-score   support\n",
            "\n",
            "           0       0.89      0.91      0.90       259\n",
            "           1       0.90      0.88      0.89       253\n",
            "\n",
            "    accuracy                           0.89       512\n",
            "   macro avg       0.89      0.89      0.89       512\n",
            "weighted avg       0.89      0.89      0.89       512\n",
            "\n"
          ],
          "name": "stdout"
        }
      ]
    },
    {
      "cell_type": "markdown",
      "metadata": {
        "id": "aLRkPPSrd4IP"
      },
      "source": [
        "#HyperParameter Tuning "
      ]
    },
    {
      "cell_type": "markdown",
      "metadata": {
        "id": "KQkJTgwnxJob"
      },
      "source": [
        "***Created Model 3 with Tuned Batch size***"
      ]
    },
    {
      "cell_type": "code",
      "metadata": {
        "id": "f-nvFkhcW3kw"
      },
      "source": [
        ""
      ],
      "execution_count": null,
      "outputs": []
    },
    {
      "cell_type": "code",
      "metadata": {
        "colab": {
          "base_uri": "https://localhost:8080/"
        },
        "id": "qBtyhRbEWtyu",
        "outputId": "c32d4646-b905-4d77-d743-b71ee6da2a80"
      },
      "source": [
        "embedding = \"https://tfhub.dev/google/nnlm-en-dim128/2\"\n",
        "hub_layer = hub.KerasLayer(embedding, input_shape=[], \n",
        "                           dtype=tf.string, trainable=True)\n",
        "hub_layer(train_examples_batch)"
      ],
      "execution_count": null,
      "outputs": [
        {
          "output_type": "stream",
          "text": [
            "WARNING:tensorflow:11 out of the last 11 calls to <function recreate_function.<locals>.restored_function_body at 0x7fe5bfc364d0> triggered tf.function retracing. Tracing is expensive and the excessive number of tracings could be due to (1) creating @tf.function repeatedly in a loop, (2) passing tensors with different shapes, (3) passing Python objects instead of tensors. For (1), please define your @tf.function outside of the loop. For (2), @tf.function has experimental_relax_shapes=True option that relaxes argument shapes that can avoid unnecessary retracing. For (3), please refer to https://www.tensorflow.org/guide/function#controlling_retracing and https://www.tensorflow.org/api_docs/python/tf/function for  more details.\n"
          ],
          "name": "stdout"
        },
        {
          "output_type": "stream",
          "text": [
            "WARNING:tensorflow:11 out of the last 11 calls to <function recreate_function.<locals>.restored_function_body at 0x7fe5bfc364d0> triggered tf.function retracing. Tracing is expensive and the excessive number of tracings could be due to (1) creating @tf.function repeatedly in a loop, (2) passing tensors with different shapes, (3) passing Python objects instead of tensors. For (1), please define your @tf.function outside of the loop. For (2), @tf.function has experimental_relax_shapes=True option that relaxes argument shapes that can avoid unnecessary retracing. For (3), please refer to https://www.tensorflow.org/guide/function#controlling_retracing and https://www.tensorflow.org/api_docs/python/tf/function for  more details.\n"
          ],
          "name": "stderr"
        },
        {
          "output_type": "stream",
          "text": [
            "WARNING:tensorflow:11 out of the last 11 calls to <function recreate_function.<locals>.restored_function_body at 0x7fe5bfc36b90> triggered tf.function retracing. Tracing is expensive and the excessive number of tracings could be due to (1) creating @tf.function repeatedly in a loop, (2) passing tensors with different shapes, (3) passing Python objects instead of tensors. For (1), please define your @tf.function outside of the loop. For (2), @tf.function has experimental_relax_shapes=True option that relaxes argument shapes that can avoid unnecessary retracing. For (3), please refer to https://www.tensorflow.org/guide/function#controlling_retracing and https://www.tensorflow.org/api_docs/python/tf/function for  more details.\n"
          ],
          "name": "stdout"
        },
        {
          "output_type": "stream",
          "text": [
            "WARNING:tensorflow:11 out of the last 11 calls to <function recreate_function.<locals>.restored_function_body at 0x7fe5bfc36b90> triggered tf.function retracing. Tracing is expensive and the excessive number of tracings could be due to (1) creating @tf.function repeatedly in a loop, (2) passing tensors with different shapes, (3) passing Python objects instead of tensors. For (1), please define your @tf.function outside of the loop. For (2), @tf.function has experimental_relax_shapes=True option that relaxes argument shapes that can avoid unnecessary retracing. For (3), please refer to https://www.tensorflow.org/guide/function#controlling_retracing and https://www.tensorflow.org/api_docs/python/tf/function for  more details.\n"
          ],
          "name": "stderr"
        },
        {
          "output_type": "stream",
          "text": [
            "WARNING:tensorflow:11 out of the last 11 calls to <function recreate_function.<locals>.restored_function_body at 0x7fe5bfc30560> triggered tf.function retracing. Tracing is expensive and the excessive number of tracings could be due to (1) creating @tf.function repeatedly in a loop, (2) passing tensors with different shapes, (3) passing Python objects instead of tensors. For (1), please define your @tf.function outside of the loop. For (2), @tf.function has experimental_relax_shapes=True option that relaxes argument shapes that can avoid unnecessary retracing. For (3), please refer to https://www.tensorflow.org/guide/function#controlling_retracing and https://www.tensorflow.org/api_docs/python/tf/function for  more details.\n"
          ],
          "name": "stdout"
        },
        {
          "output_type": "stream",
          "text": [
            "WARNING:tensorflow:11 out of the last 11 calls to <function recreate_function.<locals>.restored_function_body at 0x7fe5bfc30560> triggered tf.function retracing. Tracing is expensive and the excessive number of tracings could be due to (1) creating @tf.function repeatedly in a loop, (2) passing tensors with different shapes, (3) passing Python objects instead of tensors. For (1), please define your @tf.function outside of the loop. For (2), @tf.function has experimental_relax_shapes=True option that relaxes argument shapes that can avoid unnecessary retracing. For (3), please refer to https://www.tensorflow.org/guide/function#controlling_retracing and https://www.tensorflow.org/api_docs/python/tf/function for  more details.\n"
          ],
          "name": "stderr"
        },
        {
          "output_type": "execute_result",
          "data": {
            "text/plain": [
              "<tf.Tensor: shape=(512, 128), dtype=float32, numpy=\n",
              "array([[ 9.01966274e-01, -4.83913347e-03,  1.17907055e-01, ...,\n",
              "        -3.29729654e-02,  3.31326015e-02,  2.97882948e-02],\n",
              "       [ 1.16170359e+00, -7.05558211e-02,  1.60849199e-01, ...,\n",
              "        -8.43404531e-02, -5.93071952e-02,  6.59306049e-02],\n",
              "       [ 7.89935350e-01, -1.92666233e-01,  8.59462842e-02, ...,\n",
              "        -1.84138656e-01, -1.51076904e-02, -6.30587935e-02],\n",
              "       ...,\n",
              "       [ 1.44466436e+00, -8.83053914e-02,  1.60304487e-01, ...,\n",
              "        -2.42272437e-01,  2.09675387e-01,  1.44283520e-02],\n",
              "       [ 2.43924761e+00,  1.60155728e-01,  1.55203631e-02, ...,\n",
              "        -5.26408434e-01,  1.19971232e-02,  1.57669261e-01],\n",
              "       [ 9.46398973e-01, -2.19665486e-02,  2.32148677e-01, ...,\n",
              "         1.18891115e-03,  1.45378023e-01,  3.60802338e-02]], dtype=float32)>"
            ]
          },
          "metadata": {
            "tags": []
          },
          "execution_count": 85
        }
      ]
    },
    {
      "cell_type": "code",
      "metadata": {
        "colab": {
          "base_uri": "https://localhost:8080/"
        },
        "id": "5H5EI0veW6cG",
        "outputId": "978297c3-bcd0-4585-89db-1aee16e4cee8"
      },
      "source": [
        "model3 = tf.keras.Sequential()\n",
        "model3.add(hub_layer)\n",
        "model3.add(tf.keras.layers.Dense(5, kernel_regularizer=tf.keras.regularizers.l2(l2=0.01), activation='relu'))\n",
        "model3.add(tf.keras.layers.Dense(5, kernel_regularizer=tf.keras.regularizers.l2(l2=0.01), activation='relu'))\n",
        "model3.add(tf.keras.layers.Dropout(0.3)),\n",
        "model3.add(tf.keras.layers.Dense(5, kernel_regularizer=tf.keras.regularizers.l2(l2=0.01), activation='relu'))\n",
        "model3.add(tf.keras.layers.Dense(1,activation='sigmoid'))\n",
        "\n",
        "model3.summary()"
      ],
      "execution_count": null,
      "outputs": [
        {
          "output_type": "stream",
          "text": [
            "Model: \"sequential_5\"\n",
            "_________________________________________________________________\n",
            "Layer (type)                 Output Shape              Param #   \n",
            "=================================================================\n",
            "keras_layer_6 (KerasLayer)   (None, 128)               124642688 \n",
            "_________________________________________________________________\n",
            "dense_20 (Dense)             (None, 5)                 645       \n",
            "_________________________________________________________________\n",
            "dense_21 (Dense)             (None, 5)                 30        \n",
            "_________________________________________________________________\n",
            "dropout_5 (Dropout)          (None, 5)                 0         \n",
            "_________________________________________________________________\n",
            "dense_22 (Dense)             (None, 5)                 30        \n",
            "_________________________________________________________________\n",
            "dense_23 (Dense)             (None, 1)                 6         \n",
            "=================================================================\n",
            "Total params: 124,643,399\n",
            "Trainable params: 124,643,399\n",
            "Non-trainable params: 0\n",
            "_________________________________________________________________\n"
          ],
          "name": "stdout"
        }
      ]
    },
    {
      "cell_type": "code",
      "metadata": {
        "id": "c82GC0bxW9G7"
      },
      "source": [
        "model3.compile(optimizer= 'rmsprop',\n",
        "              loss=tf.keras.losses.BinaryCrossentropy(from_logits=True),\n",
        "              metrics=['accuracy'])"
      ],
      "execution_count": null,
      "outputs": []
    },
    {
      "cell_type": "markdown",
      "metadata": {
        "id": "ErTHO7n6eCfz"
      },
      "source": [
        "#Updated Batch Size and trained the model again"
      ]
    },
    {
      "cell_type": "code",
      "metadata": {
        "colab": {
          "base_uri": "https://localhost:8080/",
          "height": 605
        },
        "id": "rOc7mo-aW--J",
        "outputId": "40f7a2a0-483f-4eb3-b332-a2290afaddc3"
      },
      "source": [
        "start_time = tf.timestamp()\n",
        "history = model3.fit(train_data.shuffle(10000).batch(1024),\n",
        "                    epochs=7,\n",
        "                    validation_data=validation_data.batch(1024),\n",
        "                    verbose=1,\n",
        "                    callbacks = [timecallback()])\n",
        "end_time = tf.timestamp()\n",
        "\n",
        "total_time=end_time-start_time"
      ],
      "execution_count": null,
      "outputs": [
        {
          "output_type": "stream",
          "text": [
            "Epoch 1/7\n",
            "WARNING:tensorflow:11 out of the last 11 calls to <function recreate_function.<locals>.restored_function_body at 0x7fe5bdd213b0> triggered tf.function retracing. Tracing is expensive and the excessive number of tracings could be due to (1) creating @tf.function repeatedly in a loop, (2) passing tensors with different shapes, (3) passing Python objects instead of tensors. For (1), please define your @tf.function outside of the loop. For (2), @tf.function has experimental_relax_shapes=True option that relaxes argument shapes that can avoid unnecessary retracing. For (3), please refer to https://www.tensorflow.org/guide/function#controlling_retracing and https://www.tensorflow.org/api_docs/python/tf/function for  more details.\n"
          ],
          "name": "stdout"
        },
        {
          "output_type": "stream",
          "text": [
            "WARNING:tensorflow:11 out of the last 11 calls to <function recreate_function.<locals>.restored_function_body at 0x7fe5bdd213b0> triggered tf.function retracing. Tracing is expensive and the excessive number of tracings could be due to (1) creating @tf.function repeatedly in a loop, (2) passing tensors with different shapes, (3) passing Python objects instead of tensors. For (1), please define your @tf.function outside of the loop. For (2), @tf.function has experimental_relax_shapes=True option that relaxes argument shapes that can avoid unnecessary retracing. For (3), please refer to https://www.tensorflow.org/guide/function#controlling_retracing and https://www.tensorflow.org/api_docs/python/tf/function for  more details.\n"
          ],
          "name": "stderr"
        },
        {
          "output_type": "stream",
          "text": [
            "WARNING:tensorflow:11 out of the last 11 calls to <function recreate_function.<locals>.restored_function_body at 0x7fe5bfe32f80> triggered tf.function retracing. Tracing is expensive and the excessive number of tracings could be due to (1) creating @tf.function repeatedly in a loop, (2) passing tensors with different shapes, (3) passing Python objects instead of tensors. For (1), please define your @tf.function outside of the loop. For (2), @tf.function has experimental_relax_shapes=True option that relaxes argument shapes that can avoid unnecessary retracing. For (3), please refer to https://www.tensorflow.org/guide/function#controlling_retracing and https://www.tensorflow.org/api_docs/python/tf/function for  more details.\n"
          ],
          "name": "stdout"
        },
        {
          "output_type": "stream",
          "text": [
            "WARNING:tensorflow:11 out of the last 11 calls to <function recreate_function.<locals>.restored_function_body at 0x7fe5bfe32f80> triggered tf.function retracing. Tracing is expensive and the excessive number of tracings could be due to (1) creating @tf.function repeatedly in a loop, (2) passing tensors with different shapes, (3) passing Python objects instead of tensors. For (1), please define your @tf.function outside of the loop. For (2), @tf.function has experimental_relax_shapes=True option that relaxes argument shapes that can avoid unnecessary retracing. For (3), please refer to https://www.tensorflow.org/guide/function#controlling_retracing and https://www.tensorflow.org/api_docs/python/tf/function for  more details.\n"
          ],
          "name": "stderr"
        },
        {
          "output_type": "stream",
          "text": [
            "15/15 [==============================] - 4s 163ms/step - loss: 0.8683 - accuracy: 0.5363 - val_loss: 0.8166 - val_accuracy: 0.6312\n",
            "Epoch 2/7\n",
            "15/15 [==============================] - 3s 153ms/step - loss: 0.7983 - accuracy: 0.6600 - val_loss: 0.7729 - val_accuracy: 0.7468\n",
            "Epoch 3/7\n",
            "15/15 [==============================] - 3s 153ms/step - loss: 0.7472 - accuracy: 0.7531 - val_loss: 0.7330 - val_accuracy: 0.7471\n",
            "Epoch 4/7\n",
            "15/15 [==============================] - 3s 154ms/step - loss: 0.6999 - accuracy: 0.8056 - val_loss: 0.6998 - val_accuracy: 0.7929\n",
            "Epoch 5/7\n",
            "15/15 [==============================] - 3s 153ms/step - loss: 0.6646 - accuracy: 0.8455 - val_loss: 0.6749 - val_accuracy: 0.8412\n",
            "Epoch 6/7\n",
            "15/15 [==============================] - 3s 151ms/step - loss: 0.6329 - accuracy: 0.8773 - val_loss: 0.6535 - val_accuracy: 0.7918\n",
            "Epoch 7/7\n",
            "15/15 [==============================] - 3s 152ms/step - loss: 0.5962 - accuracy: 0.8947 - val_loss: 0.6439 - val_accuracy: 0.7842\n"
          ],
          "name": "stdout"
        },
        {
          "output_type": "display_data",
          "data": {
            "image/png": "[encoded data removed]",
            "text/plain": [
              "<Figure size 432x288 with 1 Axes>"
            ]
          },
          "metadata": {
            "tags": [],
            "needs_background": "light"
          }
        }
      ]
    },
    {
      "cell_type": "markdown",
      "metadata": {
        "id": "y79qV_xsefLC"
      },
      "source": [
        "***Plotted Loss over Epocs for both Training and Validation data***"
      ]
    },
    {
      "cell_type": "code",
      "metadata": {
        "colab": {
          "base_uri": "https://localhost:8080/",
          "height": 295
        },
        "id": "Bv9rA1aNXCha",
        "outputId": "c381464a-20f4-4306-9365-4d023b098394"
      },
      "source": [
        "history_dict = history.history\n",
        "history_dict.keys()\n",
        "acc = history_dict['accuracy']\n",
        "val_acc = history_dict['val_accuracy']\n",
        "loss = history_dict['loss']\n",
        "val_loss = history_dict['val_loss']\n",
        "\n",
        "epochs = range(1, len(acc) + 1)\n",
        "\n",
        "# \"bo\" is for \"blue dot\"\n",
        "plt.plot(epochs, loss, 'bo', label='Training loss')\n",
        "# b is for \"solid blue line\"\n",
        "plt.plot(epochs, val_loss, 'b', label='Validation loss')\n",
        "plt.title('Training and validation loss')\n",
        "plt.xlabel('Epochs')\n",
        "plt.ylabel('Loss')\n",
        "plt.legend()\n",
        "\n",
        "plt.show()"
      ],
      "execution_count": null,
      "outputs": [
        {
          "output_type": "display_data",
          "data": {
            "image/png": "[encoded data removed]",
            "text/plain": [
              "<Figure size 432x288 with 1 Axes>"
            ]
          },
          "metadata": {
            "tags": [],
            "needs_background": "light"
          }
        }
      ]
    },
    {
      "cell_type": "markdown",
      "metadata": {
        "id": "MWgAKUIuxbf_"
      },
      "source": [
        "#Model Evaluation"
      ]
    },
    {
      "cell_type": "markdown",
      "metadata": {
        "id": "fT3Kc_MKehpy"
      },
      "source": [
        "***Plotted Accuracy over Epocs for both Training and Validation data***"
      ]
    },
    {
      "cell_type": "code",
      "metadata": {
        "colab": {
          "base_uri": "https://localhost:8080/",
          "height": 295
        },
        "id": "WfJsryW1XDNc",
        "outputId": "41b6e839-822d-4999-ca4f-fd6206df8276"
      },
      "source": [
        "plt.plot(epochs, acc, 'bo', label='Training acc')\n",
        "plt.plot(epochs, val_acc, 'b', label='Validation acc')\n",
        "plt.title('Training and validation accuracy')\n",
        "plt.xlabel('Epochs')\n",
        "plt.ylabel('Accuracy')\n",
        "plt.legend(loc='lower right')\n",
        "\n",
        "plt.show()"
      ],
      "execution_count": null,
      "outputs": [
        {
          "output_type": "display_data",
          "data": {
            "image/png": "[encoded data removed]",
            "text/plain": [
              "<Figure size 432x288 with 1 Axes>"
            ]
          },
          "metadata": {
            "tags": [],
            "needs_background": "light"
          }
        }
      ]
    },
    {
      "cell_type": "code",
      "metadata": {
        "id": "HY9sy-PgXFOD"
      },
      "source": [
        "x, y_ = next(iter(validation_data.batch(1024)))"
      ],
      "execution_count": null,
      "outputs": []
    },
    {
      "cell_type": "code",
      "metadata": {
        "id": "ncMivOPXXJXh"
      },
      "source": [
        "y3 = (model3.predict(x) > 0.5).astype(\"int32\")"
      ],
      "execution_count": null,
      "outputs": []
    },
    {
      "cell_type": "markdown",
      "metadata": {
        "id": "kWjhrHZ8eko7"
      },
      "source": [
        "***Confusion Matrix***"
      ]
    },
    {
      "cell_type": "code",
      "metadata": {
        "colab": {
          "base_uri": "https://localhost:8080/"
        },
        "id": "_w3Tk-gPXLNw",
        "outputId": "4280d683-b004-48b8-8fc5-11f976ae6bff"
      },
      "source": [
        "con = tf.math.confusion_matrix(labels=y_, predictions=y3 )\n",
        "print(con)"
      ],
      "execution_count": null,
      "outputs": [
        {
          "output_type": "stream",
          "text": [
            "tf.Tensor(\n",
            "[[517  12]\n",
            " [199 296]], shape=(2, 2), dtype=int32)\n"
          ],
          "name": "stdout"
        }
      ]
    },
    {
      "cell_type": "markdown",
      "metadata": {
        "id": "O_Jy2OIMenWw"
      },
      "source": [
        "***Classification Report***"
      ]
    },
    {
      "cell_type": "code",
      "metadata": {
        "colab": {
          "base_uri": "https://localhost:8080/"
        },
        "id": "mrTUpe9gXNwj",
        "outputId": "02c61d33-10ec-4a60-ff0f-b7ec19b3e0de"
      },
      "source": [
        "print(classification_report(y_.numpy(), y3))"
      ],
      "execution_count": null,
      "outputs": [
        {
          "output_type": "stream",
          "text": [
            "              precision    recall  f1-score   support\n",
            "\n",
            "           0       0.72      0.98      0.83       529\n",
            "           1       0.96      0.60      0.74       495\n",
            "\n",
            "    accuracy                           0.79      1024\n",
            "   macro avg       0.84      0.79      0.78      1024\n",
            "weighted avg       0.84      0.79      0.79      1024\n",
            "\n"
          ],
          "name": "stdout"
        }
      ]
    },
    {
      "cell_type": "markdown",
      "metadata": {
        "id": "KKT7BBM_fU8R"
      },
      "source": [
        "**Model01 With default learning rate of 0.001 on the RMS Optimizer total learning time is 20 sec and Accuracy is 81%**\n",
        "\n",
        "**With HyperParameter Tuning we created 3 models by changing Optimizers, Learning Rate and Batch Size.**\n",
        "\n",
        "**Model02 - When Batch size is same and learning rate chaged to 0.2 total training time decreased to 25 sec and Acuuracy chaged to 89%**\n",
        "\n",
        "**Model03 - When batch size was doubled total training time decreased to 20 sec with learning rate of 0.001 and accuracy to 79%**"
      ]
    }
  ]
}